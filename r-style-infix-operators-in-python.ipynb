{
 "cells": [
  {
   "cell_type": "markdown",
   "metadata": {},
   "source": [
    "# R-Style Custom Infix Operators in Python\n",
    "\n",
    "This brief notebook shows how to implement custom infix operators in Python.\n",
    "The method I use to do this is basically a hack and probably shouldn't be used in any serious code.\n",
    "Nonetheless, it does serve as an interesting illustration of some cool core Python features: dunder methods and decorators.\n",
    "\n",
    "As the title says, we will be implementing 'R-style' infix operators.\n",
    "What does this mean?\n",
    "Well, in R you can define custom infix operators merely by using a special naming convention.\n",
    "I'll show you how to do that shortly.\n",
    "But first I just want to mention that by using `rpy2`, we can freely intermingle Python and R code in one notebook.\n",
    "We just have to use the `%%R` cell magic to denote an R cell, as I do below.\n",
    "(In this notebook I don't actually import `rpy2`.\n",
    "Rather, I load a script I found called `RWinOut` that fixes a Windows bug with the `rpy2` output.)\n",
    "\n",
    "Here's how we can make a very basic version of magrittr's pipe operator.\n",
    "In case you're not familiar, the pipe operator allows you to 'pipe' values left to right through functions."
   ]
  },
  {
   "cell_type": "code",
   "execution_count": 1,
   "metadata": {},
   "outputs": [],
   "source": [
    "# set up R\n",
    "%load_ext RWinOut"
   ]
  },
  {
   "cell_type": "code",
   "execution_count": 2,
   "metadata": {},
   "outputs": [
    {
     "name": "stdout",
     "output_type": "stream",
     "text": [
      "[1] 16\n"
     ]
    }
   ],
   "source": [
    "%%R\n",
    "`%>%` <- function(x, f) {\n",
    "    f(x)\n",
    "}\n",
    "\n",
    "square <- function(x) {\n",
    "    x ^ 2\n",
    "}\n",
    "\n",
    "2 %>% square %>% square"
   ]
  },
  {
   "cell_type": "markdown",
   "metadata": {},
   "source": [
    "The rule for defining an infix operator is that the function name must begin and end with a percent sign,\n",
    "and the name itself must be surrounded in backticks.\n",
    "Then R allows you to freely use the function as an infix operator.\n",
    "\n",
    "There's no obvious or nice way to do this in Python, but we can hack our way to something similar.\n",
    "The trick is that we can override the meaning of the `%` symbol using the `__mod__` and `__rmod__` dunder methods.\n",
    "In case you're not familiar, a dunder method is any method whose name begins and ends with <b>d</b>ouble <b>under</b>scores.\n",
    "Dunder methods allow us to implement custom behavior for basically every bit of 'special' syntax in Python.\n",
    "\n",
    "Every operator (`+`, `*`, `-`, `/`, `%`, `<`, `>`, etc.) has behavior defined by two dunder methods,\n",
    "for example `__mod__` and `__rmod__` for `%`.\n",
    "If `x` is an instance of a class with a `__mod__` method, then `x % y` calls `x.__mod__(y)`.\n",
    "Similarly, if `y` does not have its own `__mod__` method that works with objects like `x`, then `y % x` calls `x.__rmod__(y)`.\n",
    "\n",
    "This is all we need to implement infix operators!\n",
    "Check it out."
   ]
  },
  {
   "cell_type": "code",
   "execution_count": 3,
   "metadata": {},
   "outputs": [
    {
     "data": {
      "text/plain": [
       "4"
      ]
     },
     "execution_count": 3,
     "metadata": {},
     "output_type": "execute_result"
    }
   ],
   "source": [
    "class Infix:\n",
    "    def __init__(self, func):\n",
    "        self.func = func\n",
    "    \n",
    "    def __mod__(self, other):\n",
    "        return self.func(self.left, other)\n",
    "    \n",
    "    def __rmod__(self, other):\n",
    "        self.left = other\n",
    "        return self\n",
    "    \n",
    "def add(x, y):\n",
    "    return x + y\n",
    "add = Infix(add)\n",
    "\n",
    "2 %add% 2"
   ]
  },
  {
   "cell_type": "markdown",
   "metadata": {},
   "source": [
    "So how does this work exactly?\n",
    "\n",
    "We create a class `Infix` that implements the `__mod__` and `__rmod__` methods.\n",
    "To create a new `Infix` object, we pass in a function of two arguments which then gets stored in the `func` attribute.\n",
    "When we write an expression like `2 %add% 2`, Python reads left to right and first evaluates `2 % add`.\n",
    "Although 2 is an integer and thus has `%` defined for it, it doesn't work for objects of type `Infix`,\n",
    "so `add`'s `__rmod__` method gets called.\n",
    "This method just saves 2 into `add.left`, named so because it is the left argument, and returns `add`.\n",
    "Since `2 % add` evaluates to `add`, then `add % 2` gets evaluated.\n",
    "This calls `add.__mod__` which then calls the stored function using the previously stored left argument\n",
    "and the newly received right argument (called `other`).\n",
    "\n",
    "Pretty neat, huh?\n",
    "\n",
    "To make a function into an infix operator, we just define the function and then call `Infix` on it.\n",
    "This is exactly the use case for another Python feature called 'decorators.'\n",
    "Basically:\n",
    "\n",
    "```\n",
    "@decorate\n",
    "def f(...):\n",
    "    ...\n",
    "```\n",
    "\n",
    "is equivalent to\n",
    "\n",
    "```\n",
    "def f(...):\n",
    "    ...\n",
    "f = decorate(f)\n",
    "```\n",
    "\n",
    "So we can do the following:"
   ]
  },
  {
   "cell_type": "code",
   "execution_count": 4,
   "metadata": {},
   "outputs": [
    {
     "data": {
      "text/plain": [
       "16"
      ]
     },
     "execution_count": 4,
     "metadata": {},
     "output_type": "execute_result"
    }
   ],
   "source": [
    "@Infix\n",
    "def p(x, f): # p for pipe\n",
    "    return f(x)\n",
    "\n",
    "def square(x):\n",
    "    return x ** 2\n",
    "\n",
    "2 %p% square %p% square"
   ]
  },
  {
   "cell_type": "markdown",
   "metadata": {},
   "source": [
    "This is basically as nice as the R version.\n",
    "There are some clear limitations, however.\n",
    "Python doesn't allow you to give your function a name like `>`,\n",
    "so we can never exactly recreate the `%>%` function using this method.\n",
    "Also, since `2 %p% square` is really `(2 % p) % square`, we're stuck with the precedence of `%`, which is the same as `*` and `/`.\n",
    "However, there's nothing special about `%`. I was just copying R's syntax.\n",
    "If you wanted different syntax or different precedence, you could use a different operator.\n",
    "\n",
    "Anyway, as a final trick, let's implement a basic infix function composition."
   ]
  },
  {
   "cell_type": "code",
   "execution_count": 5,
   "metadata": {},
   "outputs": [
    {
     "name": "stdout",
     "output_type": "stream",
     "text": [
      "hello there! how are you?\n",
      "hello there! how are you?\n"
     ]
    }
   ],
   "source": [
    "@Infix\n",
    "def o(f, g): # looks like the composition symbol\n",
    "    return lambda x: f(g(x))\n",
    "\n",
    "# compose functions on the fly in a call to map\n",
    "str_list = [' HELLO  ', '  TheRe! ', 'how ', 'are', '      YOU?']\n",
    "print(' '.join(map(str.lower %o% str.strip, str_list)))\n",
    "\n",
    "# the above is not really necessary because of list comprehensions / generator expressions\n",
    "# but composition is still really cool\n",
    "print(' '.join(s.strip().lower() for s in str_list))"
   ]
  }
 ],
 "metadata": {
  "kernelspec": {
   "display_name": "Python 3",
   "language": "python",
   "name": "python3"
  },
  "language_info": {
   "codemirror_mode": {
    "name": "ipython",
    "version": 3
   },
   "file_extension": ".py",
   "mimetype": "text/x-python",
   "name": "python",
   "nbconvert_exporter": "python",
   "pygments_lexer": "ipython3",
   "version": "3.7.1"
  }
 },
 "nbformat": 4,
 "nbformat_minor": 2
}
